{
 "cells": [
  {
   "cell_type": "code",
   "execution_count": 1,
   "metadata": {},
   "outputs": [],
   "source": [
    "from sympy import *"
   ]
  },
  {
   "cell_type": "code",
   "execution_count": 2,
   "metadata": {},
   "outputs": [],
   "source": [
    "# Defining symbols to be used\n",
    "x1, x2, y1, y2, ux1, ux2, uy1, uy2 = symbols('x1, x2, y1, y2, ux1, ux2, uy1, uy2')\n",
    "k = symbols('k')\n",
    "θ = symbols('θ')"
   ]
  },
  {
   "cell_type": "code",
   "execution_count": 3,
   "metadata": {},
   "outputs": [
    {
     "data": {
      "text/latex": [
       "$\\displaystyle - \\sqrt{\\left(- x_{1} + x_{2}\\right)^{2} + \\left(- y_{1} + y_{2}\\right)^{2}} + \\sqrt{\\left(- ux_{1} + ux_{2} - x_{1} + x_{2}\\right)^{2} + \\left(- uy_{1} + uy_{2} - y_{1} + y_{2}\\right)^{2}}$"
      ],
      "text/plain": [
       "-sqrt((-x1 + x2)**2 + (-y1 + y2)**2) + sqrt((-ux1 + ux2 - x1 + x2)**2 + (-uy1 + uy2 - y1 + y2)**2)"
      ]
     },
     "execution_count": 3,
     "metadata": {},
     "output_type": "execute_result"
    }
   ],
   "source": [
    "# Building ΔL (dl) from L1 and L2\n",
    "l1 = sqrt((x2-x1)**2 + (y2-y1)**2)\n",
    "l2 = sqrt(((x2+ux2)-(x1+ux1))**2 + ((y2+uy2)-(y1+uy1))**2)\n",
    "dl = l2-l1\n",
    "dl"
   ]
  },
  {
   "cell_type": "code",
   "execution_count": 4,
   "metadata": {},
   "outputs": [
    {
     "data": {
      "text/latex": [
       "$\\displaystyle \\frac{k \\left(- \\sqrt{\\left(- x_{1} + x_{2}\\right)^{2} + \\left(- y_{1} + y_{2}\\right)^{2}} + \\sqrt{\\left(- ux_{1} + ux_{2} - x_{1} + x_{2}\\right)^{2} + \\left(- uy_{1} + uy_{2} - y_{1} + y_{2}\\right)^{2}}\\right)^{2}}{2}$"
      ],
      "text/plain": [
       "k*(-sqrt((-x1 + x2)**2 + (-y1 + y2)**2) + sqrt((-ux1 + ux2 - x1 + x2)**2 + (-uy1 + uy2 - y1 + y2)**2))**2/2"
      ]
     },
     "execution_count": 4,
     "metadata": {},
     "output_type": "execute_result"
    }
   ],
   "source": [
    "# Making work from 1/2 k ΔL^2\n",
    "# In SymPy Rational(x,y) is a fancy way of saying x/y\n",
    "w = Rational(1,2)*k*(dl)**2\n",
    "w"
   ]
  },
  {
   "cell_type": "code",
   "execution_count": 5,
   "metadata": {},
   "outputs": [
    {
     "data": {
      "text/latex": [
       "$\\displaystyle \\frac{k \\left(- \\sqrt{\\left(- x_{1} + x_{2}\\right)^{2} + \\left(- y_{1} + y_{2}\\right)^{2}} + \\sqrt{\\left(- ux_{1} + ux_{2} - x_{1} + x_{2}\\right)^{2} + \\left(- uy_{1} + uy_{2} - y_{1} + y_{2}\\right)^{2}}\\right) \\left(ux_{1} - ux_{2} + x_{1} - x_{2}\\right)}{\\sqrt{\\left(- ux_{1} + ux_{2} - x_{1} + x_{2}\\right)^{2} + \\left(- uy_{1} + uy_{2} - y_{1} + y_{2}\\right)^{2}}}$"
      ],
      "text/plain": [
       "k*(-sqrt((-x1 + x2)**2 + (-y1 + y2)**2) + sqrt((-ux1 + ux2 - x1 + x2)**2 + (-uy1 + uy2 - y1 + y2)**2))*(ux1 - ux2 + x1 - x2)/sqrt((-ux1 + ux2 - x1 + x2)**2 + (-uy1 + uy2 - y1 + y2)**2)"
      ]
     },
     "execution_count": 5,
     "metadata": {},
     "output_type": "execute_result"
    }
   ],
   "source": [
    "# Taking the derivative of W with respect to ux1 to find Fx1\n",
    "fx1 = diff(w, ux1)\n",
    "fx1"
   ]
  },
  {
   "attachments": {
    "Derivation.png": {
     "image/png": "[encoded data removed]"
    }
   },
   "cell_type": "markdown",
   "metadata": {},
   "source": [
    "![Derivation.png](attachment:Derivation.png)\n",
    "Figure 1: Reference picture"
   ]
  },
  {
   "cell_type": "code",
   "execution_count": 6,
   "metadata": {},
   "outputs": [],
   "source": [
    "# From Figure 1 we find the width (wid), and substitute cosθ with it's equivalent in the equation.\n",
    "wid = x2+ux2-x1-ux1\n",
    "fx1=fx1.subs(-wid/l2, -cos(θ))"
   ]
  },
  {
   "cell_type": "code",
   "execution_count": 7,
   "metadata": {
    "scrolled": true
   },
   "outputs": [
    {
     "data": {
      "text/plain": [
       "True"
      ]
     },
     "execution_count": 7,
     "metadata": {},
     "output_type": "execute_result"
    }
   ],
   "source": [
    "#verifying that fx1=-k ΔL cos(θ)\n",
    "fx1==-k*dl*cos(θ)"
   ]
  },
  {
   "cell_type": "markdown",
   "metadata": {},
   "source": [
    "$F_{x1} = -k \\Delta L \\cos\\theta$"
   ]
  },
  {
   "cell_type": "code",
   "execution_count": 8,
   "metadata": {},
   "outputs": [
    {
     "data": {
      "text/latex": [
       "$\\displaystyle \\frac{k \\left(- \\sqrt{\\left(- x_{1} + x_{2}\\right)^{2} + \\left(- y_{1} + y_{2}\\right)^{2}} + \\sqrt{\\left(- ux_{1} + ux_{2} - x_{1} + x_{2}\\right)^{2} + \\left(- uy_{1} + uy_{2} - y_{1} + y_{2}\\right)^{2}}\\right) \\left(- ux_{1} + ux_{2} - x_{1} + x_{2}\\right)}{\\sqrt{\\left(- ux_{1} + ux_{2} - x_{1} + x_{2}\\right)^{2} + \\left(- uy_{1} + uy_{2} - y_{1} + y_{2}\\right)^{2}}}$"
      ],
      "text/plain": [
       "k*(-sqrt((-x1 + x2)**2 + (-y1 + y2)**2) + sqrt((-ux1 + ux2 - x1 + x2)**2 + (-uy1 + uy2 - y1 + y2)**2))*(-ux1 + ux2 - x1 + x2)/sqrt((-ux1 + ux2 - x1 + x2)**2 + (-uy1 + uy2 - y1 + y2)**2)"
      ]
     },
     "execution_count": 8,
     "metadata": {},
     "output_type": "execute_result"
    }
   ],
   "source": [
    "#Taking the derivative of W with respect to ux2\n",
    "fx2 = diff(w, ux2)\n",
    "fx2"
   ]
  },
  {
   "cell_type": "code",
   "execution_count": 9,
   "metadata": {},
   "outputs": [
    {
     "data": {
      "text/latex": [
       "$\\displaystyle k \\left(- \\sqrt{\\left(- x_{1} + x_{2}\\right)^{2} + \\left(- y_{1} + y_{2}\\right)^{2}} + \\sqrt{\\left(- ux_{1} + ux_{2} - x_{1} + x_{2}\\right)^{2} + \\left(- uy_{1} + uy_{2} - y_{1} + y_{2}\\right)^{2}}\\right) \\cos{\\left(θ \\right)}$"
      ],
      "text/plain": [
       "k*(-sqrt((-x1 + x2)**2 + (-y1 + y2)**2) + sqrt((-ux1 + ux2 - x1 + x2)**2 + (-uy1 + uy2 - y1 + y2)**2))*cos(θ)"
      ]
     },
     "execution_count": 9,
     "metadata": {},
     "output_type": "execute_result"
    }
   ],
   "source": [
    "# substituting cosθ with it's equivalent\n",
    "fx2 = fx2.subs(wid/l2, cos(θ))\n",
    "fx2"
   ]
  },
  {
   "cell_type": "code",
   "execution_count": 10,
   "metadata": {
    "scrolled": true
   },
   "outputs": [
    {
     "data": {
      "text/plain": [
       "True"
      ]
     },
     "execution_count": 10,
     "metadata": {},
     "output_type": "execute_result"
    }
   ],
   "source": [
    "# verifying that fx2=k ΔL cos(θ)\n",
    "fx2 == k*dl*cos(θ)"
   ]
  },
  {
   "cell_type": "markdown",
   "metadata": {},
   "source": [
    "$F_{x2} = k \\Delta L \\cos\\theta$"
   ]
  },
  {
   "cell_type": "code",
   "execution_count": 11,
   "metadata": {},
   "outputs": [],
   "source": [
    "# finding both fy1 and fy2 by taking the derivative of W with respect to uy1 and uy2 respectively \n",
    "fy1 = diff(w, uy1)\n",
    "fy2 = diff(w, uy2)"
   ]
  },
  {
   "cell_type": "code",
   "execution_count": 12,
   "metadata": {},
   "outputs": [
    {
     "data": {
      "text/latex": [
       "$\\displaystyle \\frac{k \\left(- \\sqrt{\\left(- x_{1} + x_{2}\\right)^{2} + \\left(- y_{1} + y_{2}\\right)^{2}} + \\sqrt{\\left(- ux_{1} + ux_{2} - x_{1} + x_{2}\\right)^{2} + \\left(- uy_{1} + uy_{2} - y_{1} + y_{2}\\right)^{2}}\\right) \\left(uy_{1} - uy_{2} + y_{1} - y_{2}\\right)}{\\sqrt{\\left(- ux_{1} + ux_{2} - x_{1} + x_{2}\\right)^{2} + \\left(- uy_{1} + uy_{2} - y_{1} + y_{2}\\right)^{2}}}$"
      ],
      "text/plain": [
       "k*(-sqrt((-x1 + x2)**2 + (-y1 + y2)**2) + sqrt((-ux1 + ux2 - x1 + x2)**2 + (-uy1 + uy2 - y1 + y2)**2))*(uy1 - uy2 + y1 - y2)/sqrt((-ux1 + ux2 - x1 + x2)**2 + (-uy1 + uy2 - y1 + y2)**2)"
      ]
     },
     "execution_count": 12,
     "metadata": {},
     "output_type": "execute_result"
    }
   ],
   "source": [
    "fy1"
   ]
  },
  {
   "cell_type": "code",
   "execution_count": 13,
   "metadata": {},
   "outputs": [
    {
     "data": {
      "text/latex": [
       "$\\displaystyle - k \\left(- \\sqrt{\\left(- x_{1} + x_{2}\\right)^{2} + \\left(- y_{1} + y_{2}\\right)^{2}} + \\sqrt{\\left(- ux_{1} + ux_{2} - x_{1} + x_{2}\\right)^{2} + \\left(- uy_{1} + uy_{2} - y_{1} + y_{2}\\right)^{2}}\\right) \\sin{\\left(θ \\right)}$"
      ],
      "text/plain": [
       "-k*(-sqrt((-x1 + x2)**2 + (-y1 + y2)**2) + sqrt((-ux1 + ux2 - x1 + x2)**2 + (-uy1 + uy2 - y1 + y2)**2))*sin(θ)"
      ]
     },
     "execution_count": 13,
     "metadata": {},
     "output_type": "execute_result"
    }
   ],
   "source": [
    "# Defining the height (h) from Figure 1, and substituting sinθ for it's equivalent in fy1\n",
    "h = y2+uy2-y1-uy1\n",
    "fy1 = fy1.subs(-h/l2, -sin(θ))\n",
    "fy1"
   ]
  },
  {
   "cell_type": "code",
   "execution_count": 14,
   "metadata": {},
   "outputs": [
    {
     "data": {
      "text/plain": [
       "True"
      ]
     },
     "execution_count": 14,
     "metadata": {},
     "output_type": "execute_result"
    }
   ],
   "source": [
    "# verifying that fy1 = -k ΔL sinθ\n",
    "fy1 == -k*dl*sin(θ)"
   ]
  },
  {
   "cell_type": "markdown",
   "metadata": {},
   "source": [
    "$F_{y1} = -k \\Delta L \\sin\\theta$"
   ]
  },
  {
   "cell_type": "code",
   "execution_count": 15,
   "metadata": {},
   "outputs": [
    {
     "data": {
      "text/latex": [
       "$\\displaystyle \\frac{k \\left(- \\sqrt{\\left(- x_{1} + x_{2}\\right)^{2} + \\left(- y_{1} + y_{2}\\right)^{2}} + \\sqrt{\\left(- ux_{1} + ux_{2} - x_{1} + x_{2}\\right)^{2} + \\left(- uy_{1} + uy_{2} - y_{1} + y_{2}\\right)^{2}}\\right) \\left(- uy_{1} + uy_{2} - y_{1} + y_{2}\\right)}{\\sqrt{\\left(- ux_{1} + ux_{2} - x_{1} + x_{2}\\right)^{2} + \\left(- uy_{1} + uy_{2} - y_{1} + y_{2}\\right)^{2}}}$"
      ],
      "text/plain": [
       "k*(-sqrt((-x1 + x2)**2 + (-y1 + y2)**2) + sqrt((-ux1 + ux2 - x1 + x2)**2 + (-uy1 + uy2 - y1 + y2)**2))*(-uy1 + uy2 - y1 + y2)/sqrt((-ux1 + ux2 - x1 + x2)**2 + (-uy1 + uy2 - y1 + y2)**2)"
      ]
     },
     "execution_count": 15,
     "metadata": {},
     "output_type": "execute_result"
    }
   ],
   "source": [
    "fy2"
   ]
  },
  {
   "cell_type": "code",
   "execution_count": 16,
   "metadata": {},
   "outputs": [
    {
     "data": {
      "text/latex": [
       "$\\displaystyle k \\left(- \\sqrt{\\left(- x_{1} + x_{2}\\right)^{2} + \\left(- y_{1} + y_{2}\\right)^{2}} + \\sqrt{\\left(- ux_{1} + ux_{2} - x_{1} + x_{2}\\right)^{2} + \\left(- uy_{1} + uy_{2} - y_{1} + y_{2}\\right)^{2}}\\right) \\sin{\\left(θ \\right)}$"
      ],
      "text/plain": [
       "k*(-sqrt((-x1 + x2)**2 + (-y1 + y2)**2) + sqrt((-ux1 + ux2 - x1 + x2)**2 + (-uy1 + uy2 - y1 + y2)**2))*sin(θ)"
      ]
     },
     "execution_count": 16,
     "metadata": {},
     "output_type": "execute_result"
    }
   ],
   "source": [
    "# substituting sinθ for it's equivalent in fy2\n",
    "fy2=fy2.subs(h/l2, sin(θ))\n",
    "fy2"
   ]
  },
  {
   "cell_type": "code",
   "execution_count": 17,
   "metadata": {},
   "outputs": [
    {
     "data": {
      "text/plain": [
       "True"
      ]
     },
     "execution_count": 17,
     "metadata": {},
     "output_type": "execute_result"
    }
   ],
   "source": [
    "# Verifying fy2=k ΔL sinθ\n",
    "fy2 == k*dl*sin(θ)"
   ]
  },
  {
   "cell_type": "markdown",
   "metadata": {},
   "source": [
    "$F_{y2} = k \\Delta L \\sin\\theta$"
   ]
  },
  {
   "cell_type": "markdown",
   "metadata": {},
   "source": [
    "So, \n",
    "\\begin{align}\n",
    "F_{x1} &= -k \\Delta L \\cos\\theta\\\\\n",
    "F_{y1} &= -k \\Delta L \\sin\\theta\\\\\n",
    "F_{x2} &= k \\Delta L \\cos\\theta\\\\\n",
    "F_{y2} &= k \\Delta L \\sin\\theta\\\\\n",
    "\\end{align}"
   ]
  },
  {
   "cell_type": "code",
   "execution_count": 18,
   "metadata": {},
   "outputs": [],
   "source": [
    "fx1 = -k*dl*cos(θ)\n",
    "fy1 = -k*dl*sin(θ)\n",
    "fx2 = k*dl*cos(θ)\n",
    "fy2 = k*dl*sin(θ)"
   ]
  },
  {
   "cell_type": "code",
   "execution_count": null,
   "metadata": {},
   "outputs": [],
   "source": []
  }
 ],
 "metadata": {
  "kernelspec": {
   "display_name": "Python 3",
   "language": "python",
   "name": "python3"
  },
  "language_info": {
   "codemirror_mode": {
    "name": "ipython",
    "version": 3
   },
   "file_extension": ".py",
   "mimetype": "text/x-python",
   "name": "python",
   "nbconvert_exporter": "python",
   "pygments_lexer": "ipython3",
   "version": "3.6.9"
  }
 },
 "nbformat": 4,
 "nbformat_minor": 2
}
